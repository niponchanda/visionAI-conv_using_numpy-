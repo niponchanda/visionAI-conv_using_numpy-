{
  "nbformat": 4,
  "nbformat_minor": 0,
  "metadata": {
    "colab": {
      "name": "Convlution_using_numpy.ipynb",
      "provenance": []
    },
    "kernelspec": {
      "name": "python3",
      "display_name": "Python 3"
    },
    "language_info": {
      "name": "python"
    },
    "accelerator": "GPU"
  },
  "cells": [
    {
      "cell_type": "markdown",
      "metadata": {
        "id": "FMu8jDmlnvmb"
      },
      "source": [
        "\n",
        "Convolution of image and kernel using numpy "
      ]
    },
    {
      "cell_type": "code",
      "metadata": {
        "id": "sXIDefopnr9P"
      },
      "source": [
        "import numpy as np"
      ],
      "execution_count": 1,
      "outputs": []
    },
    {
      "cell_type": "code",
      "metadata": {
        "id": "cMTR-0LqVwci"
      },
      "source": [
        "def conv2D(image, kernel, padding=0, strides=1):\n",
        "    # Cross Correlation\n",
        "    kernel = np.flipud(np.fliplr(kernel))\n",
        "\n",
        "    # Gather Shapes of Kernel + Image + Padding\n",
        "    xKernShape = kernel.shape[0]\n",
        "    yKernShape = kernel.shape[1]\n",
        "    xImgShape = image.shape[0]\n",
        "    yImgShape = image.shape[1]\n",
        "\n",
        "    # Shape of Output Convolution\n",
        "    xOutput = int(((xImgShape - xKernShape + 2 * padding) / strides) + 1)\n",
        "    yOutput = int(((yImgShape - yKernShape + 2 * padding) / strides) + 1)\n",
        "    output = np.zeros((xOutput, yOutput))\n",
        "\n",
        "    # Apply Equal Padding to All Sides\n",
        "    if padding != 0:\n",
        "        imagePadded = np.zeros((image.shape[0] + padding*2, image.shape[1] + padding*2))\n",
        "        imagePadded[int(padding):int(-1 * padding), int(padding):int(-1 * padding)] = image\n",
        "        print(imagePadded)\n",
        "    else:\n",
        "        imagePadded = image\n",
        "\n",
        "    # Iterate through image\n",
        "    for y in range(image.shape[1]):\n",
        "        # Exit Convolution\n",
        "        if y > image.shape[1] - yKernShape:\n",
        "            break\n",
        "        # Only Convolve if y has gone down by the specified Strides\n",
        "        if y % strides == 0:\n",
        "            for x in range(image.shape[0]):\n",
        "                # Go to next row once kernel is out of bounds\n",
        "                if x > image.shape[0] - xKernShape:\n",
        "                    break\n",
        "                try:\n",
        "                    # Only Convolve if x has moved by the specified Strides\n",
        "                    if x % strides == 0:\n",
        "                        output[x, y] = (kernel * imagePadded[x: x + xKernShape, y: y + yKernShape]).sum()\n",
        "                except:\n",
        "                    break\n",
        "\n",
        "    return output"
      ],
      "execution_count": 2,
      "outputs": []
    },
    {
      "cell_type": "code",
      "metadata": {
        "colab": {
          "base_uri": "https://localhost:8080/"
        },
        "id": "hOC8iFyub534",
        "outputId": "2eceaad0-acc2-4f2b-9a1f-24f24d8956d2"
      },
      "source": [
        "kernel = [[-1, 0, 1],\n",
        "          [-1, 0, 1],\n",
        "          [-1, 0, 1]]\n",
        "image = np.random.random((5,5)) \n",
        "image = np.around(image, decimals = 2)\n",
        "image = np.pad(image, pad_width=1)\n",
        "print(f\"image: {image}\")\n",
        "output = conv2D(image, kernel)\n",
        "print(f\"output: {output}\")"
      ],
      "execution_count": 3,
      "outputs": [
        {
          "output_type": "stream",
          "text": [
            "image: [[0.   0.   0.   0.   0.   0.   0.  ]\n",
            " [0.   0.53 0.84 0.56 0.71 0.88 0.  ]\n",
            " [0.   0.64 0.96 0.47 0.21 0.04 0.  ]\n",
            " [0.   0.2  0.12 0.68 0.83 0.8  0.  ]\n",
            " [0.   0.95 0.48 0.53 0.99 0.22 0.  ]\n",
            " [0.   0.16 0.89 0.53 0.56 0.73 0.  ]\n",
            " [0.   0.   0.   0.   0.   0.   0.  ]]\n",
            "output: [[-1.8   0.14  0.88  0.11  0.92]\n",
            " [-1.92 -0.34  0.17 -0.01  1.75]\n",
            " [-1.56  0.11 -0.47  0.62  2.03]\n",
            " [-1.49 -0.43 -0.89 -0.01  2.38]\n",
            " [-1.37  0.05 -0.18  0.11  1.55]]\n"
          ],
          "name": "stdout"
        }
      ]
    },
    {
      "cell_type": "code",
      "metadata": {
        "id": "lSzGhm0CcBsW"
      },
      "source": [
        ""
      ],
      "execution_count": null,
      "outputs": []
    }
  ]
}